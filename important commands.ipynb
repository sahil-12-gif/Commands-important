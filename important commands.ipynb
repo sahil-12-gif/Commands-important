{
 "cells": [
  {
   "cell_type": "markdown",
   "metadata": {
    "slideshow": {
     "slide_type": "notes"
    },
    "tags": [
     "python_commands",
     "Flask"
    ]
   },
   "source": [
    "<!-------------------PYTHON COMMANDS For Flask------------------------->\n",
    "\n",
    "<!-- For creating a new Environment -->\n",
    "py -3 -m venv venv\n",
    "\n",
    "<!-- Activating the above Created Environment -->\n",
    ".\\venv\\Scripts\\activate\n",
    "\n",
    "<!-- How to install all the requirments files in our venv but the environment should be activated --> \n",
    "pip install -r {{requirements}}.txt\n",
    "\n",
    "copy and paste if ur file name is above named :                         pip install -r requirements.txt\n",
    "\n",
    "<!-- How to install Flask -->\n",
    "pip install flask\n",
    "\n",
    "<!-- ModuleNotFoundError: No module named 'MySQLdb' -->\n",
    "pip install flask-mysqldb\n"
   ]
  },
  {
   "cell_type": "markdown",
   "metadata": {},
   "source": []
  }
 ],
 "metadata": {
  "language_info": {
   "name": "python"
  },
  "orig_nbformat": 4
 },
 "nbformat": 4,
 "nbformat_minor": 2
}
