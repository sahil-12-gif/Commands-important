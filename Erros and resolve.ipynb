{
 "cells": [
  {
   "cell_type": "markdown",
   "metadata": {},
   "source": [
    "<!-- Error -->\n",
    "\n",
    ".\\venv\\Scripts\\activate\n",
    ".\\venv\\Scripts\\activate : File D:\\Flask-app\\flask-app\\venv\\Scripts\\Activate.ps1 cannot be loaded because running scripts is disabled on this system. For \n",
    "more information, see about_Execution_Policies at https:/go.microsoft.com/fwlink/?LinkID=135170.\n",
    "At line:1 char:1\n",
    "+ .\\venv\\Scripts\\activate\n",
    "+ ~~~~~~~~~~~~~~~~~~~~~~~\n",
    "    + CategoryInfo          : SecurityError: (:) [], PSSecurityException\n",
    "    + FullyQualifiedErrorId : UnauthorizedAccess\n",
    "\n",
    "<!-- Resolve this error :  -->\n",
    "**Set-ExecutionPolicy RemoteSigned -Scope Process**"
   ]
  },
  {
   "cell_type": "markdown",
   "metadata": {},
   "source": [
    "<!-- ModuleNotFoundError: No module named 'MySQLdb' -->\n",
    "**pip install flask-mysqldb** a\n"
   ]
  }
 ],
 "metadata": {
  "kernelspec": {
   "display_name": "Python 3",
   "language": "python",
   "name": "python3"
  },
  "language_info": {
   "codemirror_mode": {
    "name": "ipython",
    "version": 3
   },
   "file_extension": ".py",
   "mimetype": "text/x-python",
   "name": "python",
   "nbconvert_exporter": "python",
   "pygments_lexer": "ipython3",
   "version": "3.11.5"
  },
  "orig_nbformat": 4
 },
 "nbformat": 4,
 "nbformat_minor": 2
}
