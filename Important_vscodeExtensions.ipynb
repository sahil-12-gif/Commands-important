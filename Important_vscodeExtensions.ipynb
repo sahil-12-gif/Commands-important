{
 "cells": [
  {
   "cell_type": "markdown",
   "metadata": {},
   "source": [
    "1. C/C++\n",
    "2. C/C++ Extension Pack\n",
    "3. C/C++ Themes\n",
    "4. Code Runner\n",
    "5. Git Graph\n",
    "6. Jupyter\n",
    "7. Jupyter Cell tags\n",
    "8. Jupyter Keymap\n",
    "9. Jupyter Notebook\n",
    "10. Jupyter Slide Show\n",
    "11. Pylance\n",
    "12. Python\n",
    "13. Tabnine\n",
    "14. Tailwind CSS Intellisense\n",
    "15. ES7 + React/Redux"
   ]
  }
 ],
 "metadata": {
  "language_info": {
   "name": "python"
  },
  "orig_nbformat": 4
 },
 "nbformat": 4,
 "nbformat_minor": 2
}
